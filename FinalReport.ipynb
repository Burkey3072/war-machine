{
 "cells": [
  {
   "cell_type": "markdown",
   "id": "102b2440-b1ef-410d-acd6-da1648354f7b",
   "metadata": {},
   "source": [
    "\n",
    "# <p style=\"text-align: center;  margin-bottom: -1cm;\">War Machine</p>\n",
    "## <p style=\"text-align: center; margin-bottom: 0cm;\">A predictive analysis of war utilizing graph theory and support vector machine models.</p>\n",
    "\n",
    "#### <p style=\"text-align: center; margin-bottom: -1cm;\">Lowell Monis, Kyle Cowden, Joseph Burke, Adhvik Kolar, Saif-ur-Rehman Sheikh</p>\n",
    "#### <p style=\"text-align: center;\">November 19, 2024</p>\n",
    "\n",
    "***\n",
    "\n",
    "This semester project has been completed in partial fulfillment of the requirements for Computational Mathematics, Sciences, and Engineering 202, Computational Modeling Tools and Techniques, taught by Dr. Nathan Haut during the Fall of 2024.\n",
    "\n",
    "***\n",
    "\n",
    "## Preamble\n",
    "\n",
    "Before going through this project, one must ensure that they run the following cell to install modules and packages if they haven't been installed on the local server. The code is in a `raw` cell, so it must be changed to a `code` cell before it is run. This is a safety feature to avoid unnecessary installations if the notebook is reset and all cells are run."
   ]
  },
  {
   "cell_type": "raw",
   "id": "3c4b1859-4dae-4d72-886c-9d8f9b3833af",
   "metadata": {},
   "source": []
  },
  {
   "cell_type": "markdown",
   "id": "ee2468ee-58b4-404e-b00f-9b3f88ccfc36",
   "metadata": {},
   "source": [
    "***\n",
    "\n",
    "This study will make use of the following Python modules, libraries, and packages. It is essential to run the following cell to avoid running into errors while viewing this notebook. The following cell also contains setup commands for styles that may be used in the notebook.\n",
    "\n",
    "***"
   ]
  },
  {
   "cell_type": "code",
   "execution_count": 2,
   "id": "4bb3475c-f9d3-4ee8-bb96-d98493caa570",
   "metadata": {},
   "outputs": [],
   "source": [
    "# Matplotlib Setup\n",
    "\n",
    "import matplotlib.pyplot as plt\n",
    "%matplotlib inline\n",
    "import matplotlib.style as style\n",
    "style.use('fivethirtyeight') # Setting plot style\n",
    "\n",
    "# Numpy Setup\n",
    "import numpy as np\n",
    "\n",
    "# Pandas Setup\n",
    "import pandas as pd\n",
    "\n",
    "# Seaborn Setup\n",
    "import seaborn as sns\n",
    "sns.set_context('paper')\n",
    "\n",
    "# DateTime Setup\n",
    "from datetime import timedelta, datetime, date\n",
    "\n",
    "# Miscellaneous\n",
    "import warnings # To hide any and all warnings and ensure for a cleaner notebook\n",
    "warnings.filterwarnings('ignore')"
   ]
  },
  {
   "cell_type": "code",
   "execution_count": null,
   "id": "fef4666c-6295-4b2d-9539-ce4010677071",
   "metadata": {},
   "outputs": [],
   "source": []
  }
 ],
 "metadata": {
  "kernelspec": {
   "display_name": "Python 3.11 (default)",
   "language": "python",
   "name": "python3"
  },
  "language_info": {
   "codemirror_mode": {
    "name": "ipython",
    "version": 3
   },
   "file_extension": ".py",
   "mimetype": "text/x-python",
   "name": "python",
   "nbconvert_exporter": "python",
   "pygments_lexer": "ipython3",
   "version": "3.11.9"
  }
 },
 "nbformat": 4,
 "nbformat_minor": 5
}
