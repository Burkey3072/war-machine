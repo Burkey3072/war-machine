{
 "cells": [
  {
   "cell_type": "markdown",
   "metadata": {},
   "source": [
    "# CMSE 202 Project\n",
    "# Project\n",
    "# CMSE 202\n",
    "\n",
    "\n",
    "\n",
    "### Agenda \n",
    "\n",
    "</p>\n",
    "\n",
    "1. [don't die](#ai)\n",
    "1. [Do it](#github)\n",
    "1. [See if this works](#groupwork)\n",
    "1. [Test and cry](#projectplanning)\n",
    "1. [Project work time](#projectwork)"
   ]
  },
  {
   "cell_type": "markdown",
   "metadata": {},
   "source": [
    "### <p style=\"text-align: right;\"> &#9989; **Burke** </p>\n",
    "#### <p style=\"text-align: right;\"> &#9989; Social 1</p>"
   ]
  },
  {
   "cell_type": "markdown",
   "metadata": {},
   "source": [
    "-----\n",
    "### WAR CORRELATES\n",
    "\n",
    "https://correlatesofwar.org/\n",
    "\n",
    "https://correlatesofwar.org/data-sets/\n",
    "\n",
    "Terms and Conditions\n",
    "By downloading a COW dataset, you agree to the following terms and conditions:\n",
    "\n",
    "Data are not to be used for any commercial activity; users of COW data agree not to sell or use the data as part of any financial profit-making activity.\n",
    "Users agree to cite each of the datasets they use in the manner described on each specific dataset web page.\n",
    "Users agree not to distribute the dataset to any third party without written permission of the COW director and data host.\n",
    "Users agree to ask permission for any dissemination, posting, or other use of the data that is not covered by the above restrictions."
   ]
  },
  {
   "cell_type": "markdown",
   "metadata": {},
   "source": [
    "\n",
    "## #1. COW War Data, 1816 – 2007 (v4.0)\n",
    "### Sarkees, Meredith Reid and Frank Wayman (2010). Resort to War: 1816 – 2007. Washington DC: CQ Press.\n",
    "Questions and Feedback\n",
    "The inter-state and extra-state war data sets are hosted by Meredith Sarkees, Global Women’s Leadership in International Security, and Frank Wayman, University of Michigan-Dearborn. The intra-state war data sets are hosted by Meredith Sarkees and Jeffrey Dixon, Texas A&M-Central Texas. In case of questions, they may be contracted by email at sarkees@sbcglobal.net, fwayman@umich.edu, and jeffreydixon@tamuct.edu.\n",
    "\n",
    "what is a state\n",
    "what is a war\n",
    "\n",
    "\n",
    "gdp\n",
    "military_assets\n",
    "religion\n",
    "nationalism\n",
    "ethnic variability"
   ]
  },
  {
   "cell_type": "markdown",
   "metadata": {},
   "source": [
    "---\n",
    "<a id=\"ai\"></a>\n",
    "## 1. Text Head\n",
    "\n",
    "[1] OpenAI ChatGPT-3.5. Accessed on Sept 15, 2023 from https://chat.openai.com/.  Prompt chain:{'What is GPT-3'} \n",
    "\n",
    "> 1. **Subtext:** this is subtext."
   ]
  },
  {
   "cell_type": "markdown",
   "metadata": {},
   "source": [
    "\n",
    "&#9989; **Question 0.0**: This is what some dialogue looks like.\n"
   ]
  },
  {
   "cell_type": "markdown",
   "metadata": {},
   "source": [
    "<font size=+3>&#9998;</font> Coolio\n"
   ]
  },
  {
   "cell_type": "markdown",
   "metadata": {
    "jp-MarkdownHeadingCollapsed": true
   },
   "source": [
    "-----\n",
    "### Congratulations, we're done!\n",
    "\n",
    "Now, you just need to submit this assignment by uploading it to the course <a href=\"https://d2l.msu.edu/\">Desire2Learn</a> web page for today's submission folder (Don't forget to add your names in the first cell).\n"
   ]
  },
  {
   "cell_type": "markdown",
   "metadata": {},
   "source": [
    "&#169; Copyright 2023, Department of Computational Mathematics, Science and Engineering at Michigan State University"
   ]
  }
 ],
 "metadata": {
  "interpreter": {
   "hash": "31f2aee4e71d21fbe5cf8b01ff0e069b9275f58929596ceb00d14d90e3e16cd6"
  },
  "kernelspec": {
   "display_name": "Python 3.11 (default)",
   "language": "python",
   "name": "python3"
  },
  "language_info": {
   "codemirror_mode": {
    "name": "ipython",
    "version": 3
   },
   "file_extension": ".py",
   "mimetype": "text/x-python",
   "name": "python",
   "nbconvert_exporter": "python",
   "pygments_lexer": "ipython3",
   "version": "3.11.9"
  },
  "widgets": {
   "application/vnd.jupyter.widget-state+json": {
    "state": {},
    "version_major": 2,
    "version_minor": 0
   }
  }
 },
 "nbformat": 4,
 "nbformat_minor": 4
}
